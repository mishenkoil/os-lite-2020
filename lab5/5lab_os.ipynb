{
  "nbformat": 4,
  "nbformat_minor": 0,
  "metadata": {
    "colab": {
      "name": "5lab-os.ipynb",
      "provenance": [],
      "collapsed_sections": []
    },
    "kernelspec": {
      "name": "python3",
      "display_name": "Python 3"
    }
  },
  "cells": [
    {
      "cell_type": "markdown",
      "metadata": {
        "id": "gm5obIAtRWNg"
      },
      "source": [
        "# Эксперимент №1"
      ]
    },
    {
      "cell_type": "code",
      "metadata": {
        "id": "Van6IzZwY6lv"
      },
      "source": [
        "import numpy as np\n",
        "import pandas as pd\n",
        "import matplotlib.pyplot as plt\n",
        "%matplotlib inline"
      ],
      "execution_count": 1,
      "outputs": []
    },
    {
      "cell_type": "code",
      "metadata": {
        "colab": {
          "base_uri": "https://localhost:8080/",
          "height": 195
        },
        "id": "6Wijmps3Y8Mg",
        "outputId": "ac5f753c-3330-4c48-8494-7dd201fb125a"
      },
      "source": [
        "top_stats = pd.read_csv('https://raw.githubusercontent.com/mishenkoil/os-lite-2020/master/lab5/top_stats.csv')\n",
        "top_stats.head()"
      ],
      "execution_count": 2,
      "outputs": [
        {
          "output_type": "execute_result",
          "data": {
            "text/html": [
              "<div>\n",
              "<style scoped>\n",
              "    .dataframe tbody tr th:only-of-type {\n",
              "        vertical-align: middle;\n",
              "    }\n",
              "\n",
              "    .dataframe tbody tr th {\n",
              "        vertical-align: top;\n",
              "    }\n",
              "\n",
              "    .dataframe thead th {\n",
              "        text-align: right;\n",
              "    }\n",
              "</style>\n",
              "<table border=\"1\" class=\"dataframe\">\n",
              "  <thead>\n",
              "    <tr style=\"text-align: right;\">\n",
              "      <th></th>\n",
              "      <th>Time</th>\n",
              "      <th>Mem1 %</th>\n",
              "      <th>Mem2 %</th>\n",
              "      <th>Total Memory</th>\n",
              "      <th>Total swap</th>\n",
              "      <th>Free Memory</th>\n",
              "      <th>Free Swap</th>\n",
              "      <th>Used Memory</th>\n",
              "      <th>Used Swap</th>\n",
              "    </tr>\n",
              "  </thead>\n",
              "  <tbody>\n",
              "    <tr>\n",
              "      <th>0</th>\n",
              "      <td>21:41:08</td>\n",
              "      <td>2.2</td>\n",
              "      <td>2.2</td>\n",
              "      <td>8060820</td>\n",
              "      <td>2097148</td>\n",
              "      <td>4623672</td>\n",
              "      <td>289632</td>\n",
              "      <td>2222580</td>\n",
              "      <td>1807516</td>\n",
              "    </tr>\n",
              "    <tr>\n",
              "      <th>1</th>\n",
              "      <td>21:41:23</td>\n",
              "      <td>12.9</td>\n",
              "      <td>13.0</td>\n",
              "      <td>8060820</td>\n",
              "      <td>2097148</td>\n",
              "      <td>2886804</td>\n",
              "      <td>289636</td>\n",
              "      <td>3958340</td>\n",
              "      <td>1807512</td>\n",
              "    </tr>\n",
              "    <tr>\n",
              "      <th>2</th>\n",
              "      <td>21:42:28</td>\n",
              "      <td>37.2</td>\n",
              "      <td>37.8</td>\n",
              "      <td>8060820</td>\n",
              "      <td>2097148</td>\n",
              "      <td>107864</td>\n",
              "      <td>0</td>\n",
              "      <td>7483124</td>\n",
              "      <td>2097148</td>\n",
              "    </tr>\n",
              "    <tr>\n",
              "      <th>3</th>\n",
              "      <td>21:42:39</td>\n",
              "      <td>38.8</td>\n",
              "      <td>0.0</td>\n",
              "      <td>8060820</td>\n",
              "      <td>2097148</td>\n",
              "      <td>107352</td>\n",
              "      <td>0</td>\n",
              "      <td>7634084</td>\n",
              "      <td>2097148</td>\n",
              "    </tr>\n",
              "    <tr>\n",
              "      <th>4</th>\n",
              "      <td>21:43:09</td>\n",
              "      <td>60.8</td>\n",
              "      <td>0.0</td>\n",
              "      <td>8060820</td>\n",
              "      <td>2097148</td>\n",
              "      <td>1344356</td>\n",
              "      <td>3188</td>\n",
              "      <td>2093960</td>\n",
              "      <td>2093960</td>\n",
              "    </tr>\n",
              "  </tbody>\n",
              "</table>\n",
              "</div>"
            ],
            "text/plain": [
              "       Time  Mem1 %  Mem2 %  ...  Free Swap  Used Memory  Used Swap\n",
              "0  21:41:08     2.2     2.2  ...     289632      2222580    1807516\n",
              "1  21:41:23    12.9    13.0  ...     289636      3958340    1807512\n",
              "2  21:42:28    37.2    37.8  ...          0      7483124    2097148\n",
              "3  21:42:39    38.8     0.0  ...          0      7634084    2097148\n",
              "4  21:43:09    60.8     0.0  ...       3188      2093960    2093960\n",
              "\n",
              "[5 rows x 9 columns]"
            ]
          },
          "metadata": {
            "tags": []
          },
          "execution_count": 2
        }
      ]
    },
    {
      "cell_type": "code",
      "metadata": {
        "colab": {
          "base_uri": "https://localhost:8080/",
          "height": 279
        },
        "id": "p5EJM24VZ1eB",
        "outputId": "ded02757-aa3a-4d57-9b1a-bf728ff1c313"
      },
      "source": [
        "mem_per_proc = top_stats[['Time', 'Mem1 %', 'Mem2 %']]\n",
        "mem_per_proc.set_index('Time', inplace=True)\n",
        "mem_per_proc.plot()\n",
        "plt.show()"
      ],
      "execution_count": 3,
      "outputs": [
        {
          "output_type": "display_data",
          "data": {
            "image/png": "[encoded data removed]",
            "text/plain": [
              "<Figure size 432x288 with 1 Axes>"
            ]
          },
          "metadata": {
            "tags": [],
            "needs_background": "light"
          }
        }
      ]
    },
    {
      "cell_type": "code",
      "metadata": {
        "colab": {
          "base_uri": "https://localhost:8080/",
          "height": 293
        },
        "id": "xFlnLJNTbFEH",
        "outputId": "c3f6ca4b-31e0-4eac-95d2-a8caaa97790e"
      },
      "source": [
        "x_ax = top_stats['Time']\n",
        "\n",
        "fmem = top_stats['Free Memory']\n",
        "umem = top_stats['Used Memory']\n",
        "\n",
        "width = 0.3\n",
        "\n",
        "x = np.arange(len(x_ax))\n",
        "\n",
        "fig, ax = plt.subplots()\n",
        "\n",
        "ax.bar(x - width/2, fmem, width, label='Free Memory')\n",
        "ax.bar(x + width/2, umem, width, label='Used Memory')\n",
        "\n",
        "ax.set_xticks(x)\n",
        "ax.set_xticklabels(x_ax)\n",
        "ax.legend()"
      ],
      "execution_count": 4,
      "outputs": [
        {
          "output_type": "execute_result",
          "data": {
            "text/plain": [
              "<matplotlib.legend.Legend at 0x7ff137e31940>"
            ]
          },
          "metadata": {
            "tags": []
          },
          "execution_count": 4
        },
        {
          "output_type": "display_data",
          "data": {
            "image/png": "[encoded data removed]",
            "text/plain": [
              "<Figure size 432x288 with 1 Axes>"
            ]
          },
          "metadata": {
            "tags": [],
            "needs_background": "light"
          }
        }
      ]
    },
    {
      "cell_type": "code",
      "metadata": {
        "colab": {
          "base_uri": "https://localhost:8080/",
          "height": 293
        },
        "id": "Mjofpcfqkobc",
        "outputId": "cd19ca2a-9cb5-4a18-f9b7-a8a09fd3a002"
      },
      "source": [
        "fswap = top_stats['Free Swap']\n",
        "uswap = top_stats['Used Swap']\n",
        "\n",
        "fig, ax = plt.subplots()\n",
        "\n",
        "ax.bar(x - width/2, fswap, width, label='Free Swap')\n",
        "ax.bar(x + width/2, uswap, width, label='Used Swap')\n",
        "\n",
        "ax.legend()"
      ],
      "execution_count": 5,
      "outputs": [
        {
          "output_type": "execute_result",
          "data": {
            "text/plain": [
              "<matplotlib.legend.Legend at 0x7ff137da86d8>"
            ]
          },
          "metadata": {
            "tags": []
          },
          "execution_count": 5
        },
        {
          "output_type": "display_data",
          "data": {
            "image/png": "[encoded data removed]",
            "text/plain": [
              "<Figure size 432x288 with 1 Axes>"
            ]
          },
          "metadata": {
            "tags": [],
            "needs_background": "light"
          }
        }
      ]
    },
    {
      "cell_type": "markdown",
      "metadata": {
        "id": "mSB34zioyDCf"
      },
      "source": [
        "**Запись в системном журнале при запуске mem.bash:** <br>\n",
        "[ 7317.918501] Out of memory: Kill process 9671 (mem.bash) score 558 or sacrifice child <br>\n",
        "[ 7317.918507] Killed process 9671 (mem.bash) total-vm:5679284kB, anon-rss:5665348kB, file-rss:0kB, shmem-rss:0kB <br>\n",
        "[ 7318.153405] oom_reaper: reaped process 9671 (mem.bash), now anon-rss:0kB, file-rss:0kB, shmem-rss:0kB <br>\n",
        "**Последнее значение из report.log:** <br>\n",
        "72000010\n",
        "\n",
        "**Запись в системном журнале при запуске двух процессов:** <br>\n",
        "[ 8459.390604] Out of memory: Kill process 10148 (mem2.bash) score 313 or sacrifice child <br>\n",
        "[ 8459.390609] Killed process 10148 (mem2.bash) total-vm:3192800kB, anon-rss:3178896kB, file-rss:0kB, shmem-rss:0kB <br>\n",
        "[ 8459.544945] oom_reaper: reaped process 10148 (mem2.bash), now anon-rss:0kB, file-rss:0kB, shmem-rss:0kB <br>\n",
        "[ 8517.123155] [10147]  1000 10147  1579574  1576126 12701696        0             0 mem.bash <br>\n",
        "[ 8517.123157] Out of memory: Kill process 10147 (mem.bash) score 621 or sacrifice child <br>\n",
        "[ 8517.123163] Killed process 10147 (mem.bash) total-vm:6318296kB, anon-rss:6304504kB, file-rss:0kB, shmem-rss:0kB <br>\n",
        "[ 8517.456502] oom_reaper: reaped process 10147 (mem.bash), now anon-rss:0kB, file-rss:0kB, shmem-rss:0kB <br>\n",
        "**Последнее значение из report.log:** <br>\n",
        "80000010 <br>\n",
        "**Последнее значение из report2.log:** <br>\n",
        "40000010\n"
      ]
    },
    {
      "cell_type": "markdown",
      "metadata": {
        "id": "0TRNEHINO47e"
      },
      "source": [
        "#Вывод:\n",
        "* Если запустить параллельно 2 процесса, которые расходуют всю оперативную память, OOM killer выберет наименее значимый процесс (в данном случае один из скриптов) и убьет его, в результате второй процесс продолжит работу, используя освободившуюся память.\n",
        "* Видим, что когда один из процессов умирает, второму выделяется суммарно столько же памяти, как если бы мы запустили только один процесс."
      ]
    },
    {
      "cell_type": "markdown",
      "metadata": {
        "id": "QXbMhlHVmWI0"
      },
      "source": [
        "# Эксперимент №2\n",
        "* **N = 8000000**, **K = 10** - все ок\n",
        "* **N = 8000000**, **K = 30** - не ок (некоторые процессы завершаются)\n",
        "\n",
        "С помощью бинпоиска было найдено следующее значение **N** при котором **K = 30** процессов отрабатывают без аварийного завершения:\n",
        "* **N = 5800000**\n",
        "\n"
      ]
    },
    {
      "cell_type": "markdown",
      "metadata": {
        "id": "NP8w-h-hxDX4"
      },
      "source": [
        "# Вывод:\n",
        "* Очевидно что найденные **N * K** памяти в несколько раз больше максимального количества памяти при запуске одного процесса. Это обьясняется тем, что когда мы запускаем процессы с небольшим интервалом, те кто были запущены раньше, успевают закончить свою работу, тем самым освобождают память для других процессов.\n",
        "\n",
        "* Если **N будет больше 5800000**, более старые процессы не будут успевать особождать память для новых процессов, в итоге некоторые аварийно завершатся.\n",
        "\n"
      ]
    }
  ]
}